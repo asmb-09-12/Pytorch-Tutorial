{
  "nbformat": 4,
  "nbformat_minor": 0,
  "metadata": {
    "colab": {
      "provenance": [],
      "gpuType": "T4",
      "authorship_tag": "ABX9TyN10Sj5ys5uzX3EyIKHhwOR",
      "include_colab_link": true
    },
    "kernelspec": {
      "name": "python3",
      "display_name": "Python 3"
    },
    "language_info": {
      "name": "python"
    },
    "accelerator": "GPU"
  },
  "cells": [
    {
      "cell_type": "markdown",
      "metadata": {
        "id": "view-in-github",
        "colab_type": "text"
      },
      "source": [
        "<a href=\"https://colab.research.google.com/github/asmb-09-12/Pytorch-Tutorial/blob/main/Intro_to_Colab.ipynb\" target=\"_parent\"><img src=\"https://colab.research.google.com/assets/colab-badge.svg\" alt=\"Open In Colab\"/></a>"
      ]
    },
    {
      "cell_type": "code",
      "source": [
        "import torch\n",
        "import numpy as np"
      ],
      "metadata": {
        "id": "vHzCpUM7uSKS"
      },
      "execution_count": 1,
      "outputs": []
    },
    {
      "cell_type": "code",
      "source": [
        "tensor_2d = torch.randn(3,4)"
      ],
      "metadata": {
        "id": "f7tNKnecupCY"
      },
      "execution_count": 2,
      "outputs": []
    },
    {
      "cell_type": "code",
      "source": [
        "tensor_2d"
      ],
      "metadata": {
        "id": "9dwC3sKDwzCt",
        "outputId": "73c925e6-cdf2-4cd5-9c10-580feb1c59ba",
        "colab": {
          "base_uri": "https://localhost:8080/"
        }
      },
      "execution_count": 3,
      "outputs": [
        {
          "output_type": "execute_result",
          "data": {
            "text/plain": [
              "tensor([[ 0.7213, -0.1695,  1.0709, -0.6341],\n",
              "        [ 0.7317, -0.7625,  0.1358, -0.5159],\n",
              "        [ 1.3640, -1.0087,  0.6223,  1.9728]])"
            ]
          },
          "metadata": {},
          "execution_count": 3
        }
      ]
    },
    {
      "cell_type": "code",
      "source": [
        "tensor_3d = torch.randn(3,4,5)"
      ],
      "metadata": {
        "id": "T_XYzOwHw0YZ"
      },
      "execution_count": 7,
      "outputs": []
    },
    {
      "cell_type": "code",
      "source": [
        "np1 = np.random.rand(4,5)"
      ],
      "metadata": {
        "id": "T7c0rxj5w26o"
      },
      "execution_count": 8,
      "outputs": []
    },
    {
      "cell_type": "code",
      "source": [
        "my_tensor = torch.tensor(np1)"
      ],
      "metadata": {
        "id": "0yzqoMbRxGfe"
      },
      "execution_count": 9,
      "outputs": []
    },
    {
      "cell_type": "code",
      "source": [
        "my_tensor"
      ],
      "metadata": {
        "id": "KL6M_bczxK4y",
        "outputId": "4a2c7ac2-32f7-43aa-c232-a8b3dd6f2a2f",
        "colab": {
          "base_uri": "https://localhost:8080/"
        }
      },
      "execution_count": 10,
      "outputs": [
        {
          "output_type": "execute_result",
          "data": {
            "text/plain": [
              "tensor([[0.5833, 0.0082, 0.6264, 0.2612, 0.8456],\n",
              "        [0.9357, 0.3274, 0.8472, 0.7379, 0.5203],\n",
              "        [0.7705, 0.9943, 0.6870, 0.4401, 0.8375],\n",
              "        [0.8426, 0.5216, 0.5951, 0.8667, 0.2083]], dtype=torch.float64)"
            ]
          },
          "metadata": {},
          "execution_count": 10
        }
      ]
    },
    {
      "cell_type": "code",
      "source": [
        "zero_tensor = torch.zeros(4,5)\n",
        "zero_tensor"
      ],
      "metadata": {
        "id": "tNbp8Kt0xMM4",
        "outputId": "4bf20cac-aaab-47d2-afb5-3c9399a077c6",
        "colab": {
          "base_uri": "https://localhost:8080/"
        }
      },
      "execution_count": 12,
      "outputs": [
        {
          "output_type": "execute_result",
          "data": {
            "text/plain": [
              "tensor([[0., 0., 0., 0., 0.],\n",
              "        [0., 0., 0., 0., 0.],\n",
              "        [0., 0., 0., 0., 0.],\n",
              "        [0., 0., 0., 0., 0.]])"
            ]
          },
          "metadata": {},
          "execution_count": 12
        }
      ]
    },
    {
      "cell_type": "code",
      "source": [],
      "metadata": {
        "id": "62nnRRbyxPiH"
      },
      "execution_count": null,
      "outputs": []
    }
  ]
}