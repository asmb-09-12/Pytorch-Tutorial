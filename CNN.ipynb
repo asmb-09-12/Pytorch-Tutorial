{
  "nbformat": 4,
  "nbformat_minor": 0,
  "metadata": {
    "colab": {
      "provenance": [],
      "authorship_tag": "ABX9TyOXSeZeNQ1Cj6oxZXYtyfwB",
      "include_colab_link": true
    },
    "kernelspec": {
      "name": "python3",
      "display_name": "Python 3"
    },
    "language_info": {
      "name": "python"
    }
  },
  "cells": [
    {
      "cell_type": "markdown",
      "metadata": {
        "id": "view-in-github",
        "colab_type": "text"
      },
      "source": [
        "<a href=\"https://colab.research.google.com/github/asmb-09-12/Pytorch-Tutorial/blob/main/CNN.ipynb\" target=\"_parent\"><img src=\"https://colab.research.google.com/assets/colab-badge.svg\" alt=\"Open In Colab\"/></a>"
      ]
    },
    {
      "cell_type": "code",
      "execution_count": 1,
      "metadata": {
        "id": "PRhA6aV6oDuH"
      },
      "outputs": [],
      "source": [
        "import torch\n",
        "import torch.nn as nn\n",
        "import torch.nn.functional as F\n",
        "from torch.utils.data import DataLoader\n",
        "from torchvision import datasets, transforms\n",
        "from torchvision.utils import make_grid\n",
        "\n",
        "import numpy as np\n",
        "import matplotlib.pyplot as plt\n",
        "import pandas as pd\n",
        "from sklearn.metrics import confusion_matrix\n",
        "%matplotlib inline\n"
      ]
    },
    {
      "cell_type": "code",
      "source": [
        "# Convert MNIST Image giles into a Tensor of 4-Dimensions\n",
        "#(# of Images, Height, Width, DN)\n",
        "transform =transforms.ToTensor()"
      ],
      "metadata": {
        "id": "yvFU7G1zogxF"
      },
      "execution_count": 2,
      "outputs": []
    },
    {
      "cell_type": "code",
      "source": [
        "#Train Data\n",
        "train_data = datasets.MNIST(root='/cnn_data', train =True, download = True,\n",
        "                            transform = transform)"
      ],
      "metadata": {
        "id": "KvFBPXcDo5c0"
      },
      "execution_count": 3,
      "outputs": []
    },
    {
      "cell_type": "code",
      "source": [
        "test_data = datasets.MNIST(root='/cnn_data', train =False, download = True,\n",
        "                            transform = transform)"
      ],
      "metadata": {
        "id": "W4uMssG2pMFR"
      },
      "execution_count": 4,
      "outputs": []
    },
    {
      "cell_type": "code",
      "source": [
        "train_data"
      ],
      "metadata": {
        "colab": {
          "base_uri": "https://localhost:8080/"
        },
        "id": "9gRPWlRKpSUo",
        "outputId": "3252b311-7c2c-443d-afb9-ccd00a96bbf8"
      },
      "execution_count": 5,
      "outputs": [
        {
          "output_type": "execute_result",
          "data": {
            "text/plain": [
              "Dataset MNIST\n",
              "    Number of datapoints: 60000\n",
              "    Root location: /cnn_data\n",
              "    Split: Train\n",
              "    StandardTransform\n",
              "Transform: ToTensor()"
            ]
          },
          "metadata": {},
          "execution_count": 5
        }
      ]
    },
    {
      "cell_type": "code",
      "source": [
        "pwd"
      ],
      "metadata": {
        "colab": {
          "base_uri": "https://localhost:8080/",
          "height": 35
        },
        "id": "PsDMYeIXpUdO",
        "outputId": "18e64b6f-dbcc-41ca-a9ea-56be48b8c968"
      },
      "execution_count": 6,
      "outputs": [
        {
          "output_type": "execute_result",
          "data": {
            "text/plain": [
              "'/content'"
            ],
            "application/vnd.google.colaboratory.intrinsic+json": {
              "type": "string"
            }
          },
          "metadata": {},
          "execution_count": 6
        }
      ]
    },
    {
      "cell_type": "code",
      "source": [
        "cd .."
      ],
      "metadata": {
        "colab": {
          "base_uri": "https://localhost:8080/"
        },
        "id": "1rnhz4U7pfRR",
        "outputId": "05145cce-6c77-4294-eb42-c151b28a5184"
      },
      "execution_count": 7,
      "outputs": [
        {
          "output_type": "stream",
          "name": "stdout",
          "text": [
            "/\n"
          ]
        }
      ]
    },
    {
      "cell_type": "code",
      "source": [
        "ls"
      ],
      "metadata": {
        "colab": {
          "base_uri": "https://localhost:8080/"
        },
        "id": "_MDNT0kApg7b",
        "outputId": "a4efb68a-0c56-444f-e872-4e54cd6e4e85"
      },
      "execution_count": 8,
      "outputs": [
        {
          "output_type": "stream",
          "name": "stdout",
          "text": [
            "\u001b[0m\u001b[01;36mbin\u001b[0m@                        \u001b[01;34mhome\u001b[0m/    NGC-DL-CONTAINER-LICENSE  \u001b[01;34msrv\u001b[0m/\n",
            "\u001b[01;34mboot\u001b[0m/                       \u001b[01;34mkaggle\u001b[0m/  \u001b[01;34mopt\u001b[0m/                      \u001b[01;34msys\u001b[0m/\n",
            "\u001b[01;34mcnn_data\u001b[0m/                   \u001b[01;36mlib\u001b[0m@     \u001b[01;34mproc\u001b[0m/                     \u001b[30;42mtmp\u001b[0m/\n",
            "\u001b[01;34mcontent\u001b[0m/                    \u001b[01;36mlib32\u001b[0m@   \u001b[01;34mpython-apt\u001b[0m/               \u001b[01;34mtools\u001b[0m/\n",
            "cuda-keyring_1.1-1_all.deb  \u001b[01;36mlib64\u001b[0m@   \u001b[01;32mpython-apt.tar.xz\u001b[0m*        \u001b[01;34musr\u001b[0m/\n",
            "\u001b[01;34mdatalab\u001b[0m/                    \u001b[01;36mlibx32\u001b[0m@  \u001b[01;34mroot\u001b[0m/                     \u001b[01;34mvar\u001b[0m/\n",
            "\u001b[01;34mdev\u001b[0m/                        \u001b[01;34mmedia\u001b[0m/   \u001b[01;34mrun\u001b[0m/\n",
            "\u001b[01;34metc\u001b[0m/                        \u001b[01;34mmnt\u001b[0m/     \u001b[01;36msbin\u001b[0m@\n"
          ]
        }
      ]
    },
    {
      "cell_type": "code",
      "source": [
        "cd cnn_data"
      ],
      "metadata": {
        "colab": {
          "base_uri": "https://localhost:8080/"
        },
        "id": "4f2_bDw_pjat",
        "outputId": "90b16eb9-4fff-431c-baf2-5af9c1091b86"
      },
      "execution_count": 9,
      "outputs": [
        {
          "output_type": "stream",
          "name": "stdout",
          "text": [
            "/cnn_data\n"
          ]
        }
      ]
    },
    {
      "cell_type": "code",
      "source": [
        "ls"
      ],
      "metadata": {
        "colab": {
          "base_uri": "https://localhost:8080/"
        },
        "id": "r5oiUOjopsAo",
        "outputId": "e26911f5-dfa8-4bb8-ab86-fd489a510b67"
      },
      "execution_count": 10,
      "outputs": [
        {
          "output_type": "stream",
          "name": "stdout",
          "text": [
            "\u001b[0m\u001b[01;34mMNIST\u001b[0m/\n"
          ]
        }
      ]
    },
    {
      "cell_type": "code",
      "source": [
        "cd ..\n"
      ],
      "metadata": {
        "colab": {
          "base_uri": "https://localhost:8080/"
        },
        "id": "vZ5WssiWpsTh",
        "outputId": "a5ca558e-37b1-463a-aaf5-83311bdd0019"
      },
      "execution_count": 11,
      "outputs": [
        {
          "output_type": "stream",
          "name": "stdout",
          "text": [
            "/\n"
          ]
        }
      ]
    },
    {
      "cell_type": "code",
      "source": [
        "cd content/"
      ],
      "metadata": {
        "colab": {
          "base_uri": "https://localhost:8080/"
        },
        "id": "N-vLLhq3pvdS",
        "outputId": "1953e994-99dd-4082-8219-f6b12dd86f38"
      },
      "execution_count": 12,
      "outputs": [
        {
          "output_type": "stream",
          "name": "stdout",
          "text": [
            "/content\n"
          ]
        }
      ]
    },
    {
      "cell_type": "code",
      "source": [
        "# Create a small batch size for images\n",
        "train_loader = DataLoader(train_data, batch_size = 10, shuffle = True)\n",
        "test_loader = DataLoader(test_data, batch_size = 10, shuffle = False)"
      ],
      "metadata": {
        "id": "TZO9Ho2rpxNi"
      },
      "execution_count": 13,
      "outputs": []
    },
    {
      "cell_type": "code",
      "source": [
        "# Define Our CNN Model\n",
        "# Describe convolutional later and what it's doing (2 Convolutional layers)\n",
        "conv1 =nn.Conv2d(1, 6, 3, 1)\n",
        "conv2 =nn.Conv2d(6, 16, 3, 1)"
      ],
      "metadata": {
        "id": "scD_5nyKqewU"
      },
      "execution_count": 14,
      "outputs": []
    },
    {
      "cell_type": "code",
      "source": [
        "from re import X\n",
        "# Grab 1 MNIST record/ image\n",
        "for i, (X_train, y_train) in enumerate(train_data):\n",
        "  break"
      ],
      "metadata": {
        "id": "jur5bLYdq6Bk"
      },
      "execution_count": 15,
      "outputs": []
    },
    {
      "cell_type": "code",
      "source": [
        "X_train.shape"
      ],
      "metadata": {
        "colab": {
          "base_uri": "https://localhost:8080/"
        },
        "id": "--b1JF5XrCuG",
        "outputId": "194283b4-7e3c-42fe-9701-977f6da4e478"
      },
      "execution_count": 16,
      "outputs": [
        {
          "output_type": "execute_result",
          "data": {
            "text/plain": [
              "torch.Size([1, 28, 28])"
            ]
          },
          "metadata": {},
          "execution_count": 16
        }
      ]
    },
    {
      "cell_type": "code",
      "source": [
        "x = X_train.view(1,1,28,28)"
      ],
      "metadata": {
        "id": "6TvDToe5rEDU"
      },
      "execution_count": 17,
      "outputs": []
    },
    {
      "cell_type": "code",
      "source": [
        "x.shape"
      ],
      "metadata": {
        "colab": {
          "base_uri": "https://localhost:8080/"
        },
        "id": "P1veW2uwsrnh",
        "outputId": "8c5ca0cc-933e-4cca-df06-826c687c7537"
      },
      "execution_count": 18,
      "outputs": [
        {
          "output_type": "execute_result",
          "data": {
            "text/plain": [
              "torch.Size([1, 1, 28, 28])"
            ]
          },
          "metadata": {},
          "execution_count": 18
        }
      ]
    },
    {
      "cell_type": "code",
      "source": [
        "x = F.relu(conv1(x)) # Rectified Linear Unit for our activation function\n"
      ],
      "metadata": {
        "id": "xPq8BrRirPEp"
      },
      "execution_count": 19,
      "outputs": []
    },
    {
      "cell_type": "code",
      "source": [
        "x.shape"
      ],
      "metadata": {
        "colab": {
          "base_uri": "https://localhost:8080/"
        },
        "id": "Zz-Oct1TrbK7",
        "outputId": "4f4272f3-20af-488b-842c-9655c540e809"
      },
      "execution_count": 20,
      "outputs": [
        {
          "output_type": "execute_result",
          "data": {
            "text/plain": [
              "torch.Size([1, 6, 26, 26])"
            ]
          },
          "metadata": {},
          "execution_count": 20
        }
      ]
    },
    {
      "cell_type": "code",
      "source": [
        "# 1 image\n",
        "# 6 is the filters\n",
        "# Height (start and end pixels not counted)\n",
        "# Width (start and end pixels not counted)"
      ],
      "metadata": {
        "id": "BbzyCFekrcMv"
      },
      "execution_count": 21,
      "outputs": []
    },
    {
      "cell_type": "code",
      "source": [
        "x = F.max_pool2d(x, 2, 2) #kernel of 2 and stride of 2"
      ],
      "metadata": {
        "id": "gJFtcZ2st7tP"
      },
      "execution_count": 22,
      "outputs": []
    },
    {
      "cell_type": "code",
      "source": [
        "x.shape"
      ],
      "metadata": {
        "colab": {
          "base_uri": "https://localhost:8080/"
        },
        "id": "sGgP3ehkuDT3",
        "outputId": "ab12594b-9283-4084-8b4a-d5d9574786a0"
      },
      "execution_count": 23,
      "outputs": [
        {
          "output_type": "execute_result",
          "data": {
            "text/plain": [
              "torch.Size([1, 6, 13, 13])"
            ]
          },
          "metadata": {},
          "execution_count": 23
        }
      ]
    },
    {
      "cell_type": "code",
      "source": [
        "# second convolution layer\n",
        "\n",
        "x = F.relu(conv2(x))"
      ],
      "metadata": {
        "id": "wwtD9gC2uELy"
      },
      "execution_count": 24,
      "outputs": []
    },
    {
      "cell_type": "code",
      "source": [
        "x.shape"
      ],
      "metadata": {
        "colab": {
          "base_uri": "https://localhost:8080/"
        },
        "id": "Vq18i6WZuXsg",
        "outputId": "050cc7fe-4c03-4963-f41e-ee881fbf8d70"
      },
      "execution_count": 25,
      "outputs": [
        {
          "output_type": "execute_result",
          "data": {
            "text/plain": [
              "torch.Size([1, 16, 11, 11])"
            ]
          },
          "metadata": {},
          "execution_count": 25
        }
      ]
    },
    {
      "cell_type": "code",
      "source": [
        "# 1 image\n",
        "# 16 is the filters\n",
        "# Height (start and end pixels not counted)\n",
        "# Width (start and end pixels not counted)"
      ],
      "metadata": {
        "id": "ksoO9ybDuY-X"
      },
      "execution_count": 26,
      "outputs": []
    },
    {
      "cell_type": "code",
      "source": [
        "# Pooling Layer\n",
        "\n",
        "x = F.max_pool2d(x, 2, 2)"
      ],
      "metadata": {
        "id": "IHsD8heIudms"
      },
      "execution_count": 27,
      "outputs": []
    },
    {
      "cell_type": "code",
      "source": [
        "x.shape"
      ],
      "metadata": {
        "colab": {
          "base_uri": "https://localhost:8080/"
        },
        "id": "T339p0rXujUm",
        "outputId": "0fe4ac7c-a9c0-4370-df5d-0792aed291f5"
      },
      "execution_count": 28,
      "outputs": [
        {
          "output_type": "execute_result",
          "data": {
            "text/plain": [
              "torch.Size([1, 16, 5, 5])"
            ]
          },
          "metadata": {},
          "execution_count": 28
        }
      ]
    },
    {
      "cell_type": "markdown",
      "source": [
        "MODEL CLASS"
      ],
      "metadata": {
        "id": "Zlfi8t_ovDRV"
      }
    },
    {
      "cell_type": "code",
      "source": [
        "# Model Class"
      ],
      "metadata": {
        "id": "YqiDlZF2ukeG"
      },
      "execution_count": 29,
      "outputs": []
    },
    {
      "cell_type": "code",
      "source": [
        "class ConvolutionalNetwork(nn.Module):\n",
        "  def __init__(self):\n",
        "    super().__init__()\n",
        "    self.conv1 = nn.Conv2d(1 ,6 ,3 ,1)\n",
        "    self.conv2 = nn.Conv2d(6, 16 ,3 ,1)\n",
        "    # Fully Connected Layer i.e. Classification Layer\n",
        "    self.fc1 = nn.Linear(5*5*16, 120)\n",
        "    self.fc2 = nn.Linear(120, 84)\n",
        "    self.fc3 = nn.Linear(84, 10)\n",
        "\n",
        "  def forward(self, X):\n",
        "    # 1st Pass\n",
        "    X = F.relu(self.conv1(X))\n",
        "    X = F.max_pool2d(X, 2, 2)\n",
        "    # 2nd Pass\n",
        "    X = F.relu(self.conv2(X))\n",
        "    X = F.max_pool2d(X, 2, 2)\n",
        "\n",
        "    # Re-View to flatten it out\n",
        "    X = X.view(-1, 5*5*16) #negative one so we can vary the batch size\n",
        "\n",
        "    # Fully Connected Layers\n",
        "    X = F.relu(self.fc1(X))\n",
        "    X = F.relu(self.fc2(X))\n",
        "    X = self.fc3(X)\n",
        "\n",
        "    return F.log_softmax(X, dim =1)"
      ],
      "metadata": {
        "id": "QNwNawzKvGKD"
      },
      "execution_count": 31,
      "outputs": []
    },
    {
      "cell_type": "code",
      "source": [
        "# Create an Instance of our Model\n",
        "torch.manual_seed(41)\n",
        "model1 = ConvolutionalNetwork()\n",
        "model1"
      ],
      "metadata": {
        "colab": {
          "base_uri": "https://localhost:8080/"
        },
        "id": "J_MYmFIevfcX",
        "outputId": "0bddaaf1-92b7-4420-93fd-69d161944713"
      },
      "execution_count": 32,
      "outputs": [
        {
          "output_type": "execute_result",
          "data": {
            "text/plain": [
              "ConvolutionalNetwork(\n",
              "  (conv1): Conv2d(1, 6, kernel_size=(3, 3), stride=(1, 1))\n",
              "  (conv2): Conv2d(6, 16, kernel_size=(3, 3), stride=(1, 1))\n",
              "  (fc1): Linear(in_features=400, out_features=120, bias=True)\n",
              "  (fc2): Linear(in_features=120, out_features=84, bias=True)\n",
              "  (fc3): Linear(in_features=84, out_features=10, bias=True)\n",
              ")"
            ]
          },
          "metadata": {},
          "execution_count": 32
        }
      ]
    },
    {
      "cell_type": "code",
      "source": [
        "# Loss Function Optimizer\n",
        "criterion = nn.CrossEntropyLoss()\n",
        "optimizer = torch.optim.Adam(model1.parameters(), lr =0.001)\n",
        "# Smaller the Learning Rate, longer its gonna take to train"
      ],
      "metadata": {
        "id": "3_6Ntu9Uwkkm"
      },
      "execution_count": 33,
      "outputs": []
    },
    {
      "cell_type": "code",
      "source": [
        "import time\n",
        "start_time = time.time()\n",
        "\n",
        "# Create Variable to Track Thiings\n",
        "epochs = 5\n",
        "train_losses = []\n",
        "test_losses = []\n",
        "train_correct = []\n",
        "test_correct = []\n",
        "\n",
        "# For Loop of Epochs\n",
        "for i in range(epochs):\n",
        "  trn_corr = 0\n",
        "  tst_corr = 0\n",
        "\n",
        "  # Train\n",
        "  for b, (X_train, y_train) in enumerate(train_loader):\n",
        "    b += 1\n",
        "    y_pred = model1(X_train)\n",
        "    loss = criterion(y_pred, y_train)\n",
        "\n",
        "\n",
        "    predicted = torch.max(y_pred.data, 1)[1]\n",
        "    batch_corr = (predicted == y_train).sum()\n",
        "    trn_corr += batch_corr\n",
        "\n",
        "\n",
        "\n",
        "    # Update our Parameters\n",
        "    optimizer.zero_grad()\n",
        "    loss.backward()\n",
        "    optimizer.step()\n",
        "\n",
        "\n",
        "\n",
        "\n",
        "    # Print out some results\n",
        "    if b%600 ==0:\n",
        "      print(f'Epoch: {i} Batch: {b} Loss: {loss.item()}')\n",
        "\n",
        "\n",
        "\n",
        "  train_losses.append(loss)\n",
        "  train_correct.append(trn_corr)\n",
        "\n",
        "\n",
        "\n",
        "  # Test\n",
        "  with torch.no_grad():\n",
        "    for b, (X_test, y_test) in enumerate(test_loader):\n",
        "      y_val = model1(X_test)\n",
        "      predicted = torch.max(y_val.data, 1)[1]\n",
        "      tst_corr += (predicted ==y_test).sum()\n",
        "\n",
        "  loss = criterion(y_val, y_test)\n",
        "  test_losses.append(loss)\n",
        "  test_correct.append(tst_corr)\n",
        "\n",
        "\n",
        "\n",
        "\n",
        "current_time = time.time()\n",
        "print(f'Training Time: {(current_time - start_time)/60} minutes')"
      ],
      "metadata": {
        "colab": {
          "base_uri": "https://localhost:8080/"
        },
        "id": "6d6FoSuQxM57",
        "outputId": "d0891c6f-5d59-45f6-cc28-e8dc4ee477e0"
      },
      "execution_count": 36,
      "outputs": [
        {
          "output_type": "stream",
          "name": "stdout",
          "text": [
            "Epoch: 0 Batch: 600 Loss: 0.03221464157104492\n",
            "Epoch: 0 Batch: 1200 Loss: 0.003333463566377759\n",
            "Epoch: 0 Batch: 1800 Loss: 0.04126342386007309\n",
            "Epoch: 0 Batch: 2400 Loss: 0.14685525000095367\n",
            "Epoch: 0 Batch: 3000 Loss: 0.12026345729827881\n",
            "Epoch: 0 Batch: 3600 Loss: 0.0001952919119503349\n",
            "Epoch: 0 Batch: 4200 Loss: 0.00016604487609583884\n",
            "Epoch: 0 Batch: 4800 Loss: 0.0006250619189813733\n",
            "Epoch: 0 Batch: 5400 Loss: 0.0019755663815885782\n",
            "Epoch: 0 Batch: 6000 Loss: 0.0005515654920600355\n",
            "Epoch: 1 Batch: 600 Loss: 0.029676983132958412\n",
            "Epoch: 1 Batch: 1200 Loss: 0.0007412865525111556\n",
            "Epoch: 1 Batch: 1800 Loss: 0.0008890863391570747\n",
            "Epoch: 1 Batch: 2400 Loss: 0.006851988844573498\n",
            "Epoch: 1 Batch: 3000 Loss: 0.3968263268470764\n",
            "Epoch: 1 Batch: 3600 Loss: 0.00292785931378603\n",
            "Epoch: 1 Batch: 4200 Loss: 0.0005554658127948642\n",
            "Epoch: 1 Batch: 4800 Loss: 0.006729685701429844\n",
            "Epoch: 1 Batch: 5400 Loss: 0.0051476918160915375\n",
            "Epoch: 1 Batch: 6000 Loss: 0.0030590523965656757\n",
            "Epoch: 2 Batch: 600 Loss: 0.0015550360549241304\n",
            "Epoch: 2 Batch: 1200 Loss: 0.0016640543472021818\n",
            "Epoch: 2 Batch: 1800 Loss: 0.0014323515351861715\n",
            "Epoch: 2 Batch: 2400 Loss: 0.0014698707964271307\n",
            "Epoch: 2 Batch: 3000 Loss: 0.003533406648784876\n",
            "Epoch: 2 Batch: 3600 Loss: 6.788404425606132e-05\n",
            "Epoch: 2 Batch: 4200 Loss: 0.01356517057865858\n",
            "Epoch: 2 Batch: 4800 Loss: 0.02494993433356285\n",
            "Epoch: 2 Batch: 5400 Loss: 4.3281226680846885e-05\n",
            "Epoch: 2 Batch: 6000 Loss: 0.08026562631130219\n",
            "Epoch: 3 Batch: 600 Loss: 4.7541670937789604e-05\n",
            "Epoch: 3 Batch: 1200 Loss: 0.03551480919122696\n",
            "Epoch: 3 Batch: 1800 Loss: 0.0014768592081964016\n",
            "Epoch: 3 Batch: 2400 Loss: 0.23901721835136414\n",
            "Epoch: 3 Batch: 3000 Loss: 0.0004619716783054173\n",
            "Epoch: 3 Batch: 3600 Loss: 0.11063989251852036\n",
            "Epoch: 3 Batch: 4200 Loss: 0.01616169512271881\n",
            "Epoch: 3 Batch: 4800 Loss: 4.18398340116255e-05\n",
            "Epoch: 3 Batch: 5400 Loss: 1.901343603094574e-05\n",
            "Epoch: 3 Batch: 6000 Loss: 0.007096839137375355\n",
            "Epoch: 4 Batch: 600 Loss: 9.03587533684913e-06\n",
            "Epoch: 4 Batch: 1200 Loss: 0.004855274222791195\n",
            "Epoch: 4 Batch: 1800 Loss: 0.0016982697416096926\n",
            "Epoch: 4 Batch: 2400 Loss: 0.002389690838754177\n",
            "Epoch: 4 Batch: 3000 Loss: 0.003209749236702919\n",
            "Epoch: 4 Batch: 3600 Loss: 0.0008862953400239348\n",
            "Epoch: 4 Batch: 4200 Loss: 0.00010335505794500932\n",
            "Epoch: 4 Batch: 4800 Loss: 0.001271474757231772\n",
            "Epoch: 4 Batch: 5400 Loss: 1.7070431567844935e-05\n",
            "Epoch: 4 Batch: 6000 Loss: 2.5532321160426363e-05\n",
            "Training Time: 3.7601695974667866 minutes\n"
          ]
        }
      ]
    },
    {
      "cell_type": "code",
      "source": [],
      "metadata": {
        "id": "5svPTItsz1kv"
      },
      "execution_count": null,
      "outputs": []
    }
  ]
}